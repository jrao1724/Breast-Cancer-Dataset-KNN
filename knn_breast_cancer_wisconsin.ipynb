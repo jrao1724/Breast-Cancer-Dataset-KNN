{
 "cells": [
  {
   "cell_type": "markdown",
   "metadata": {},
   "source": [
    "# k-Nearest Neighbors Prediction Model of Breast Cancer Diagnosis from The University of Wisconsin\n",
    "Author: Jayanth Rao  "
   ]
  },
  {
   "cell_type": "markdown",
   "metadata": {
    "toc": true
   },
   "source": [
    "<h1>Table of Contents<span class=\"tocSkip\"></span></h1>\n",
    "<div class=\"toc\"><ul class=\"toc-item\"><li><span><a href=\"#Introduction-\" data-toc-modified-id=\"Introduction--1\"><span class=\"toc-item-num\">1&nbsp;&nbsp;</span>Introduction <a name=\"introduction\"></a></a></span></li><li><span><a href=\"#Preprocessing-and-Feature-Creation-\" data-toc-modified-id=\"Preprocessing-and-Feature-Creation--2\"><span class=\"toc-item-num\">2&nbsp;&nbsp;</span>Preprocessing and Feature Creation <a name=\"preprocessing\"></a></a></span></li><li><span><a href=\"#Creation-of-The-Model-\" data-toc-modified-id=\"Creation-of-The-Model--3\"><span class=\"toc-item-num\">3&nbsp;&nbsp;</span>Creation of The Model <a name=\"model\"></a></a></span></li><li><span><a href=\"#Cross-Validation-\" data-toc-modified-id=\"Cross-Validation--4\"><span class=\"toc-item-num\">4&nbsp;&nbsp;</span>Cross Validation <a name=\"validation\"></a></a></span></li></ul></div>"
   ]
  },
  {
   "cell_type": "markdown",
   "metadata": {},
   "source": [
    "## Introduction <a name=\"introduction\"></a>\n",
    "\n",
    "This dataset is from the University of Wisconsin, created by Dr. William H. Wolberg. He assessed the biopsies of breast cancer tumors for 699 patients. 9 attributes were recorded on a scale from 1 to 10, and the result of each diagnosis is known. The diagnonsis results were placed in the 'Class' column.\n",
    "\n",
    "Dataset link: [Breast Cancer Wisconsin (Original)](https://archive.ics.uci.edu/ml/datasets/Breast+Cancer+Wisconsin+%28Original%29)  \n",
    "Creator: Dr. William H. Wolberg (physician)  \n",
    "University of Wisconsin Hospitals  \n",
    "Madison, Wisconsin, USA  \n",
    "July 15th, 1992  "
   ]
  },
  {
   "cell_type": "markdown",
   "metadata": {},
   "source": [
    "## Preprocessing and Feature Creation <a name=\"preprocessing\"></a>\n",
    "I had to polish the data in order to set the model up. To do so, I normalized the 'Class' scale by setting a diagnosis marked 'Benign' to 0, and a diagnosis marked 'Malignant' to 1. Also, 16 values were missing from the Bare Nuclei column, and to address this, I deleted the rows these missing values were in. Ultimately, my model was built on 683 total values. \n",
    "\n",
    "I also created a Correlation Matrix to give myself an idea on which features would be strongly correlated with each other."
   ]
  },
  {
   "cell_type": "code",
   "execution_count": 1,
   "metadata": {},
   "outputs": [],
   "source": [
    "# Uncomment this install if the seaborn package is not installed in your environment\n",
    "# pip install seaborn"
   ]
  },
  {
   "cell_type": "code",
   "execution_count": 2,
   "metadata": {},
   "outputs": [],
   "source": [
    "import numpy as np\n",
    "import random\n",
    "import seaborn as sn\n",
    "import matplotlib.pyplot as plt\n",
    "from matplotlib.ticker import NullFormatter\n",
    "import pandas as pd\n",
    "import matplotlib.ticker as ticker\n",
    "from sklearn import preprocessing\n",
    "from sklearn.model_selection import train_test_split\n",
    "from sklearn.neighbors import KNeighborsClassifier\n",
    "from sklearn import metrics\n",
    "from sklearn.model_selection import KFold\n",
    "from sklearn.model_selection import cross_val_score, cross_val_predict"
   ]
  },
  {
   "cell_type": "code",
   "execution_count": 3,
   "metadata": {},
   "outputs": [
    {
     "data": {
      "text/html": [
       "<div>\n",
       "<style scoped>\n",
       "    .dataframe tbody tr th:only-of-type {\n",
       "        vertical-align: middle;\n",
       "    }\n",
       "\n",
       "    .dataframe tbody tr th {\n",
       "        vertical-align: top;\n",
       "    }\n",
       "\n",
       "    .dataframe thead th {\n",
       "        text-align: right;\n",
       "    }\n",
       "</style>\n",
       "<table border=\"1\" class=\"dataframe\">\n",
       "  <thead>\n",
       "    <tr style=\"text-align: right;\">\n",
       "      <th></th>\n",
       "      <th>ID</th>\n",
       "      <th>ClumpThickness</th>\n",
       "      <th>UniformityOfCellSize</th>\n",
       "      <th>UniformityOfCellShape</th>\n",
       "      <th>MarginalAdhesion</th>\n",
       "      <th>EpithelialCellSize</th>\n",
       "      <th>BareNuclei</th>\n",
       "      <th>BlandChromatin</th>\n",
       "      <th>NormalNucleoli</th>\n",
       "      <th>Mitoses</th>\n",
       "      <th>Class</th>\n",
       "    </tr>\n",
       "  </thead>\n",
       "  <tbody>\n",
       "    <tr>\n",
       "      <th>0</th>\n",
       "      <td>1000025</td>\n",
       "      <td>5</td>\n",
       "      <td>1</td>\n",
       "      <td>1</td>\n",
       "      <td>1</td>\n",
       "      <td>2</td>\n",
       "      <td>1.0</td>\n",
       "      <td>3</td>\n",
       "      <td>1</td>\n",
       "      <td>1</td>\n",
       "      <td>0</td>\n",
       "    </tr>\n",
       "    <tr>\n",
       "      <th>1</th>\n",
       "      <td>1002945</td>\n",
       "      <td>5</td>\n",
       "      <td>4</td>\n",
       "      <td>4</td>\n",
       "      <td>5</td>\n",
       "      <td>7</td>\n",
       "      <td>10.0</td>\n",
       "      <td>3</td>\n",
       "      <td>2</td>\n",
       "      <td>1</td>\n",
       "      <td>0</td>\n",
       "    </tr>\n",
       "    <tr>\n",
       "      <th>2</th>\n",
       "      <td>1015425</td>\n",
       "      <td>3</td>\n",
       "      <td>1</td>\n",
       "      <td>1</td>\n",
       "      <td>1</td>\n",
       "      <td>2</td>\n",
       "      <td>2.0</td>\n",
       "      <td>3</td>\n",
       "      <td>1</td>\n",
       "      <td>1</td>\n",
       "      <td>0</td>\n",
       "    </tr>\n",
       "    <tr>\n",
       "      <th>3</th>\n",
       "      <td>1016277</td>\n",
       "      <td>6</td>\n",
       "      <td>8</td>\n",
       "      <td>8</td>\n",
       "      <td>1</td>\n",
       "      <td>3</td>\n",
       "      <td>4.0</td>\n",
       "      <td>3</td>\n",
       "      <td>7</td>\n",
       "      <td>1</td>\n",
       "      <td>0</td>\n",
       "    </tr>\n",
       "    <tr>\n",
       "      <th>4</th>\n",
       "      <td>1017023</td>\n",
       "      <td>4</td>\n",
       "      <td>1</td>\n",
       "      <td>1</td>\n",
       "      <td>3</td>\n",
       "      <td>2</td>\n",
       "      <td>1.0</td>\n",
       "      <td>3</td>\n",
       "      <td>1</td>\n",
       "      <td>1</td>\n",
       "      <td>0</td>\n",
       "    </tr>\n",
       "    <tr>\n",
       "      <th>5</th>\n",
       "      <td>1017122</td>\n",
       "      <td>8</td>\n",
       "      <td>10</td>\n",
       "      <td>10</td>\n",
       "      <td>8</td>\n",
       "      <td>7</td>\n",
       "      <td>10.0</td>\n",
       "      <td>9</td>\n",
       "      <td>7</td>\n",
       "      <td>1</td>\n",
       "      <td>1</td>\n",
       "    </tr>\n",
       "    <tr>\n",
       "      <th>6</th>\n",
       "      <td>1018099</td>\n",
       "      <td>1</td>\n",
       "      <td>1</td>\n",
       "      <td>1</td>\n",
       "      <td>1</td>\n",
       "      <td>2</td>\n",
       "      <td>10.0</td>\n",
       "      <td>3</td>\n",
       "      <td>1</td>\n",
       "      <td>1</td>\n",
       "      <td>0</td>\n",
       "    </tr>\n",
       "    <tr>\n",
       "      <th>7</th>\n",
       "      <td>1018561</td>\n",
       "      <td>2</td>\n",
       "      <td>1</td>\n",
       "      <td>2</td>\n",
       "      <td>1</td>\n",
       "      <td>2</td>\n",
       "      <td>1.0</td>\n",
       "      <td>3</td>\n",
       "      <td>1</td>\n",
       "      <td>1</td>\n",
       "      <td>0</td>\n",
       "    </tr>\n",
       "    <tr>\n",
       "      <th>8</th>\n",
       "      <td>1033078</td>\n",
       "      <td>2</td>\n",
       "      <td>1</td>\n",
       "      <td>1</td>\n",
       "      <td>1</td>\n",
       "      <td>2</td>\n",
       "      <td>1.0</td>\n",
       "      <td>1</td>\n",
       "      <td>1</td>\n",
       "      <td>5</td>\n",
       "      <td>0</td>\n",
       "    </tr>\n",
       "    <tr>\n",
       "      <th>9</th>\n",
       "      <td>1033078</td>\n",
       "      <td>4</td>\n",
       "      <td>2</td>\n",
       "      <td>1</td>\n",
       "      <td>1</td>\n",
       "      <td>2</td>\n",
       "      <td>1.0</td>\n",
       "      <td>2</td>\n",
       "      <td>1</td>\n",
       "      <td>1</td>\n",
       "      <td>0</td>\n",
       "    </tr>\n",
       "  </tbody>\n",
       "</table>\n",
       "</div>"
      ],
      "text/plain": [
       "        ID  ClumpThickness  UniformityOfCellSize  UniformityOfCellShape  \\\n",
       "0  1000025               5                     1                      1   \n",
       "1  1002945               5                     4                      4   \n",
       "2  1015425               3                     1                      1   \n",
       "3  1016277               6                     8                      8   \n",
       "4  1017023               4                     1                      1   \n",
       "5  1017122               8                    10                     10   \n",
       "6  1018099               1                     1                      1   \n",
       "7  1018561               2                     1                      2   \n",
       "8  1033078               2                     1                      1   \n",
       "9  1033078               4                     2                      1   \n",
       "\n",
       "   MarginalAdhesion  EpithelialCellSize  BareNuclei  BlandChromatin  \\\n",
       "0                 1                   2         1.0               3   \n",
       "1                 5                   7        10.0               3   \n",
       "2                 1                   2         2.0               3   \n",
       "3                 1                   3         4.0               3   \n",
       "4                 3                   2         1.0               3   \n",
       "5                 8                   7        10.0               9   \n",
       "6                 1                   2        10.0               3   \n",
       "7                 1                   2         1.0               3   \n",
       "8                 1                   2         1.0               1   \n",
       "9                 1                   2         1.0               2   \n",
       "\n",
       "   NormalNucleoli  Mitoses  Class  \n",
       "0               1        1      0  \n",
       "1               2        1      0  \n",
       "2               1        1      0  \n",
       "3               7        1      0  \n",
       "4               1        1      0  \n",
       "5               7        1      1  \n",
       "6               1        1      0  \n",
       "7               1        1      0  \n",
       "8               1        5      0  \n",
       "9               1        1      0  "
      ]
     },
     "execution_count": 3,
     "metadata": {},
     "output_type": "execute_result"
    }
   ],
   "source": [
    "bc_data = pd.read_csv('breast-cancer-wisconsin_new.txt', header=None)\n",
    "bc_data.columns = ['ID', 'ClumpThickness', 'UniformityOfCellSize', 'UniformityOfCellShape', 'MarginalAdhesion','EpithelialCellSize', 'BareNuclei', 'BlandChromatin', 'NormalNucleoli', 'Mitoses', 'Class']\n",
    "\n",
    "\n",
    "def binary_vals(x):\n",
    "    if x == 2:\n",
    "        return 0\n",
    "    return 1\n",
    "\n",
    "# preprocessing of the class (0 -> benign, 1 -> malignant)\n",
    "bc_data['Class'] = bc_data.apply(lambda row: binary_vals(row['Class']), axis=1)\n",
    "\n",
    "for i in bc_data.columns:\n",
    "    bc_data[i] = pd.to_numeric(bc_data[i], errors='coerce')\n",
    "    \n",
    "bc_data = bc_data.dropna()\n",
    "bc_data.head(10)"
   ]
  },
  {
   "cell_type": "code",
   "execution_count": 4,
   "metadata": {},
   "outputs": [
    {
     "data": {
      "image/png": "[encoded data removed]",
      "text/plain": [
       "<Figure size 504x504 with 2 Axes>"
      ]
     },
     "metadata": {
      "needs_background": "light"
     },
     "output_type": "display_data"
    }
   ],
   "source": [
    "# Generate a Confusion Matrix of the features to see which are strongly correlated with each other\n",
    "columns_df = bc_data[['ClumpThickness', 'UniformityOfCellSize', 'UniformityOfCellShape', 'MarginalAdhesion','EpithelialCellSize', 'BareNuclei', 'BlandChromatin', 'NormalNucleoli', 'Mitoses']]\n",
    "values = columns_df.values\n",
    "\n",
    "features = ['ClumpThickness', 'UniformityOfCellSize', 'UniformityOfCellShape', 'MarginalAdhesion','EpithelialCellSize', 'BareNuclei', 'BlandChromatin', 'NormalNucleoli', 'Mitoses']\n",
    "\n",
    "fig = plt.figure(figsize=(7,7))\n",
    "corrMatrix = columns_df.corr()\n",
    "sn.heatmap(corrMatrix, \n",
    "           cmap=sn.diverging_palette(20, 220, n=200),\n",
    "           square=True)\n",
    "plt.title(\"Confusion Matrix Betw. Features\")\n",
    "plt.show()"
   ]
  },
  {
   "cell_type": "markdown",
   "metadata": {},
   "source": [
    "As seen from the Confusion Matrix, Uniformity of Cell Size and Uniformity of Cell Shape are quite strongly correlated, but the other features are fairly independent of each other."
   ]
  },
  {
   "cell_type": "code",
   "execution_count": 5,
   "metadata": {},
   "outputs": [],
   "source": [
    "# Feature creation\n",
    "features = bc_data[['ClumpThickness', 'UniformityOfCellSize', 'UniformityOfCellShape', 'MarginalAdhesion', 'EpithelialCellSize', 'BareNuclei', 'BlandChromatin', 'NormalNucleoli', 'Mitoses']]\n",
    "\n",
    "# set them all as floating point values\n",
    "features = preprocessing.StandardScaler().fit(features).transform(features.astype(float))"
   ]
  },
  {
   "cell_type": "markdown",
   "metadata": {},
   "source": [
    "## Creation of The Model <a name=\"model\"></a>\n",
    "I selected a <b>K-Nearest Neighbors Classification Model</b>, as the predictions were going to be binary (benign or malignant).\n",
    "\n",
    "To do so, I first needed to split the dataset into a training set and a testing set. The model would be created based on the training set, and then would be put to use on the testing set to provide an accuracy value. I split the data on a 90-10 ratio, as that is usually the standard for K-Nearest Neighbors Classification.\n",
    "\n",
    "To find the optimal Nearest Neighbor value, I iterated over 20 nearest neighbors and from there, found the count that gave me the highest accuracy in my train set. I created my model based off this value."
   ]
  },
  {
   "cell_type": "code",
   "execution_count": 6,
   "metadata": {},
   "outputs": [],
   "source": [
    "# Response Variable\n",
    "prediction_col = bc_data['Class'].values"
   ]
  },
  {
   "cell_type": "code",
   "execution_count": 7,
   "metadata": {},
   "outputs": [],
   "source": [
    "# Setup the train and test sets\n",
    "feature_train, feature_test, pred_train, pred_test = train_test_split(features, prediction_col, test_size=0.1, random_state=45)"
   ]
  },
  {
   "cell_type": "code",
   "execution_count": 8,
   "metadata": {
    "scrolled": true
   },
   "outputs": [
    {
     "name": "stdout",
     "output_type": "stream",
     "text": [
      "Train set: (614, 9) (614,)\n",
      "Test set: (69, 9) (69,)\n"
     ]
    }
   ],
   "source": [
    "# Train and Test sets:\n",
    "print('Train set:', feature_train.shape, pred_train.shape)\n",
    "print('Test set:', feature_test.shape, pred_test.shape)"
   ]
  },
  {
   "cell_type": "code",
   "execution_count": 9,
   "metadata": {},
   "outputs": [],
   "source": [
    "# K count:\n",
    "kCount = range(1,20,1)\n",
    "training_accuracy = []\n",
    "test_accuracy = []"
   ]
  },
  {
   "cell_type": "code",
   "execution_count": 10,
   "metadata": {},
   "outputs": [],
   "source": [
    "# Build lists of various nearest neighbor values to find the best one\n",
    "for i in kCount:\n",
    "    # train the model and perform a prediction\n",
    "    knn_model = KNeighborsClassifier(n_neighbors=i).fit(feature_train, pred_train)\n",
    "    prediction = knn_model.predict(feature_test)\n",
    "    \n",
    "    # Evaluation of Accuracy\n",
    "    training_accuracy.append(metrics.accuracy_score(pred_train, knn_model.predict(feature_train)))\n",
    "    test_accuracy.append(metrics.accuracy_score(pred_test, prediction))"
   ]
  },
  {
   "cell_type": "code",
   "execution_count": 11,
   "metadata": {},
   "outputs": [
    {
     "data": {
      "image/png": "[encoded data removed]",
      "text/plain": [
       "<Figure size 720x504 with 1 Axes>"
      ]
     },
     "metadata": {
      "needs_background": "light"
     },
     "output_type": "display_data"
    }
   ],
   "source": [
    "# Plot the Accuracy of the Training Set vs. Accuracy of the Testing Set\n",
    "fig = plt.figure(figsize=(10,7))\n",
    "plt.plot(kCount, training_accuracy, label=\"Training Set Accuracy\")\n",
    "plt.plot(kCount, test_accuracy, label='Testing Set Accuracy')\n",
    "max_index = test_accuracy.index(max(test_accuracy))\n",
    "plt.plot(max_index + 1, test_accuracy[max_index], 'x')  # indicate the nearest neighbor with the best accuracy\n",
    "plt.xlabel('Number of Nearest Neighbors')\n",
    "plt.ylabel('Accuracy')\n",
    "plt.title('Train vs. Test Graph')\n",
    "plt.legend()\n",
    "plt.show()"
   ]
  },
  {
   "cell_type": "markdown",
   "metadata": {},
   "source": [
    "As seen from the graph of the Nearest Neighbors vs. the Accuracy, the number of Nearest Neighbors that provided the highest accuracy was 5. "
   ]
  },
  {
   "cell_type": "code",
   "execution_count": 12,
   "metadata": {},
   "outputs": [
    {
     "name": "stdout",
     "output_type": "stream",
     "text": [
      "Train Set Accuracy: 0.9739413680781759\n",
      "Test Set Accuracy: 0.9710144927536232\n"
     ]
    }
   ],
   "source": [
    "knn_model = KNeighborsClassifier(n_neighbors = 5).fit(feature_train, pred_train)\n",
    "prediction = knn_model.predict(feature_test)\n",
    "\n",
    "print(\"Train Set Accuracy:\", metrics.accuracy_score(pred_train, knn_model.predict(feature_train)))\n",
    "print(\"Test Set Accuracy:\", metrics.accuracy_score(pred_test, prediction))"
   ]
  },
  {
   "cell_type": "markdown",
   "metadata": {},
   "source": [
    "The accuracy of the prediction for the testing set was quite good. However, I believe it could have been better if the rows that were initially dropped were included, as that would have added to the sample size without creating too much extra noise.\n"
   ]
  },
  {
   "cell_type": "markdown",
   "metadata": {},
   "source": [
    "## Cross Validation <a name=\"validation\"></a>\n",
    "To check make sure my model was not overfitting nor underfitting the dataset, I implemented a Cross Validation Score. The cross validation method I used was the K-Folds Cross Validation."
   ]
  },
  {
   "cell_type": "code",
   "execution_count": 13,
   "metadata": {},
   "outputs": [
    {
     "name": "stdout",
     "output_type": "stream",
     "text": [
      "Splits for K-Fold Validation: 10\n"
     ]
    }
   ],
   "source": [
    "# K-Fold Implementation\n",
    "kfold = KFold(10, True)\n",
    "print(\"Splits for K-Fold Validation:\", kfold.get_n_splits(features))"
   ]
  },
  {
   "cell_type": "code",
   "execution_count": 14,
   "metadata": {},
   "outputs": [],
   "source": [
    "for train_index, test_index in kfold.split(features):\n",
    "    feature_train, feature_test = features[train_index], features[test_index]\n",
    "    pred_train, pred_test = prediction_col[train_index], prediction_col[test_index]"
   ]
  },
  {
   "cell_type": "code",
   "execution_count": 15,
   "metadata": {},
   "outputs": [
    {
     "name": "stdout",
     "output_type": "stream",
     "text": [
      "Cross Validation Mean Score: 0.9679629629629629\n"
     ]
    }
   ],
   "source": [
    "kNN = KNeighborsClassifier(n_neighbors=5)\n",
    "score = cross_val_score(kNN, features, prediction_col, cv=45)\n",
    "print('Cross Validation Mean Score:', score.mean())"
   ]
  },
  {
   "cell_type": "markdown",
   "metadata": {},
   "source": [
    "To create the k-Fold Cross Validation score, I used 10 folds (a good number to use for this validation method). The reason I chose this number was to divide the 684 values into equal groups of data. The Cross Validation Score that was found shows that the model did a pretty decent job of not underfitting nor overfitting the dataset."
   ]
  }
 ],
 "metadata": {
  "kernelspec": {
   "display_name": "Python 3",
   "language": "python",
   "name": "python3"
  },
  "language_info": {
   "codemirror_mode": {
    "name": "ipython",
    "version": 3
   },
   "file_extension": ".py",
   "mimetype": "text/x-python",
   "name": "python",
   "nbconvert_exporter": "python",
   "pygments_lexer": "ipython3",
   "version": "3.7.6"
  },
  "toc": {
   "base_numbering": 1,
   "nav_menu": {},
   "number_sections": true,
   "sideBar": true,
   "skip_h1_title": true,
   "title_cell": "Table of Contents",
   "title_sidebar": "Contents",
   "toc_cell": true,
   "toc_position": {
    "height": "calc(100% - 180px)",
    "left": "10px",
    "top": "150px",
    "width": "165px"
   },
   "toc_section_display": true,
   "toc_window_display": true
  }
 },
 "nbformat": 4,
 "nbformat_minor": 4
}
